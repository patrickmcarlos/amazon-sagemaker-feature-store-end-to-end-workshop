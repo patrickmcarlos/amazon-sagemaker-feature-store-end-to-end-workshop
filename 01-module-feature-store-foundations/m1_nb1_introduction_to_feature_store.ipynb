{
 "cells": [
  {
   "cell_type": "markdown",
   "metadata": {},
   "source": [
    "# Module 1: Introduction to SageMaker Feature Store"
   ]
  },
  {
   "cell_type": "markdown",
   "metadata": {},
   "source": [
    "**Note:** Please set kernel to `Python 3 (Data Science)` and select instance to `ml.t3.medium`"
   ]
  },
  {
   "cell_type": "markdown",
   "metadata": {},
   "source": [
    "---\n",
    "\n",
    "## Contents\n",
    "\n",
    "1. [Background](#Background)\n",
    "1. [Setup](#Setup)\n",
    "1. [Load and explore datasets](#Load-and-explore-datasets)\n",
    "1. [Create feature definitions and groups](#Create-feature-definitions-and-groups)\n",
    "1. [Ingest data into feature groups](#Ingest-data-into-feature-groups)\n",
    "1. [Get feature record from the Online feature store](#Get-feature-record-from-the-Online-feature-store)\n",
    "1. [List feature groups](#List-feature-groups)"
   ]
  },
  {
   "cell_type": "markdown",
   "metadata": {},
   "source": [
    "# Background"
   ]
  },
  {
   "cell_type": "markdown",
   "metadata": {},
   "source": [
    "In this notebook, you will learn how to create **3** feature groups for `customers`, `products` and `orders` datasets \n",
    "in the SageMaker Feature Store. You will then learn how to ingest the feature \n",
    "columns into the created feature groups (both the Online and the Offline store) using SageMaker Python SDK. You will also see how to get an ingested feature record from the Online store. In the end, you will know how to list all the feature groups created within the Feature Store and delete them.\n",
    "\n",
    "**Note:** The feature groups created in this notebook will be used in the upcoming modules.\n"
   ]
  },
  {
   "cell_type": "markdown",
   "metadata": {},
   "source": [
    "# Setup"
   ]
  },
  {
   "cell_type": "markdown",
   "metadata": {},
   "source": [
    "#### Imports"
   ]
  },
  {
   "cell_type": "code",
   "execution_count": 35,
   "metadata": {},
   "outputs": [],
   "source": [
    "from sagemaker.feature_store.feature_group import FeatureGroup\n",
    "from time import gmtime, strftime, sleep\n",
    "from random import randint\n",
    "import pandas as pd\n",
    "import numpy as np\n",
    "import subprocess\n",
    "import sagemaker\n",
    "import importlib\n",
    "import logging\n",
    "import time\n",
    "import sys"
   ]
  },
  {
   "cell_type": "code",
   "execution_count": 36,
   "metadata": {},
   "outputs": [],
   "source": [
    "if sagemaker.__version__ < '2.48.1':\n",
    "    subprocess.check_call([sys.executable, '-m', 'pip', 'install', 'sagemaker==2.48.1'])\n",
    "    importlib.reload(sagemaker)"
   ]
  },
  {
   "cell_type": "code",
   "execution_count": 37,
   "metadata": {},
   "outputs": [],
   "source": [
    "logger = logging.getLogger('__name__')\n",
    "logger.setLevel(logging.DEBUG)\n",
    "logger.addHandler(logging.StreamHandler())"
   ]
  },
  {
   "cell_type": "code",
   "execution_count": 38,
   "metadata": {},
   "outputs": [
    {
     "name": "stderr",
     "output_type": "stream",
     "text": [
      "Using SageMaker version: 2.70.0\n",
      "Using SageMaker version: 2.70.0\n",
      "Using Pandas version: 1.0.1\n",
      "Using Pandas version: 1.0.1\n"
     ]
    }
   ],
   "source": [
    "logger.info(f'Using SageMaker version: {sagemaker.__version__}')\n",
    "logger.info(f'Using Pandas version: {pd.__version__}')"
   ]
  },
  {
   "cell_type": "markdown",
   "metadata": {},
   "source": [
    "#### Essentials"
   ]
  },
  {
   "cell_type": "code",
   "execution_count": 39,
   "metadata": {},
   "outputs": [
    {
     "name": "stderr",
     "output_type": "stream",
     "text": [
      "Default S3 bucket = sagemaker-us-west-2-119387606724\n",
      "Default S3 bucket = sagemaker-us-west-2-119387606724\n"
     ]
    }
   ],
   "source": [
    "sagemaker_session = sagemaker.Session()\n",
    "role = sagemaker.get_execution_role()\n",
    "default_bucket = sagemaker_session.default_bucket()\n",
    "logger.info(f'Default S3 bucket = {default_bucket}')\n",
    "prefix = 'sagemaker-feature-store'"
   ]
  },
  {
   "cell_type": "code",
   "execution_count": 40,
   "metadata": {},
   "outputs": [],
   "source": [
    "region = sagemaker_session.boto_region_name"
   ]
  },
  {
   "cell_type": "markdown",
   "metadata": {},
   "source": [
    "# Load and explore datasets"
   ]
  },
  {
   "cell_type": "code",
   "execution_count": 41,
   "metadata": {},
   "outputs": [
    {
     "data": {
      "text/html": [
       "<div>\n",
       "<style scoped>\n",
       "    .dataframe tbody tr th:only-of-type {\n",
       "        vertical-align: middle;\n",
       "    }\n",
       "\n",
       "    .dataframe tbody tr th {\n",
       "        vertical-align: top;\n",
       "    }\n",
       "\n",
       "    .dataframe thead th {\n",
       "        text-align: right;\n",
       "    }\n",
       "</style>\n",
       "<table border=\"1\" class=\"dataframe\">\n",
       "  <thead>\n",
       "    <tr style=\"text-align: right;\">\n",
       "      <th></th>\n",
       "      <th>customer_id</th>\n",
       "      <th>sex</th>\n",
       "      <th>is_married</th>\n",
       "      <th>event_time</th>\n",
       "      <th>age_18-29</th>\n",
       "      <th>age_30-39</th>\n",
       "      <th>age_40-49</th>\n",
       "      <th>age_50-59</th>\n",
       "      <th>age_60-69</th>\n",
       "      <th>age_70-plus</th>\n",
       "      <th>n_days_active</th>\n",
       "    </tr>\n",
       "  </thead>\n",
       "  <tbody>\n",
       "    <tr>\n",
       "      <th>0</th>\n",
       "      <td>C1</td>\n",
       "      <td>1</td>\n",
       "      <td>1</td>\n",
       "      <td>2022-02-15T23:29:37.454Z</td>\n",
       "      <td>0</td>\n",
       "      <td>0</td>\n",
       "      <td>0</td>\n",
       "      <td>1</td>\n",
       "      <td>0</td>\n",
       "      <td>0</td>\n",
       "      <td>0.521918</td>\n",
       "    </tr>\n",
       "    <tr>\n",
       "      <th>1</th>\n",
       "      <td>C2</td>\n",
       "      <td>0</td>\n",
       "      <td>1</td>\n",
       "      <td>2022-02-15T23:29:37.456Z</td>\n",
       "      <td>1</td>\n",
       "      <td>0</td>\n",
       "      <td>0</td>\n",
       "      <td>0</td>\n",
       "      <td>0</td>\n",
       "      <td>0</td>\n",
       "      <td>0.142466</td>\n",
       "    </tr>\n",
       "    <tr>\n",
       "      <th>2</th>\n",
       "      <td>C3</td>\n",
       "      <td>0</td>\n",
       "      <td>1</td>\n",
       "      <td>2022-02-15T23:29:37.458Z</td>\n",
       "      <td>0</td>\n",
       "      <td>0</td>\n",
       "      <td>0</td>\n",
       "      <td>0</td>\n",
       "      <td>1</td>\n",
       "      <td>0</td>\n",
       "      <td>0.141096</td>\n",
       "    </tr>\n",
       "    <tr>\n",
       "      <th>3</th>\n",
       "      <td>C4</td>\n",
       "      <td>0</td>\n",
       "      <td>1</td>\n",
       "      <td>2022-02-15T23:29:37.459Z</td>\n",
       "      <td>0</td>\n",
       "      <td>0</td>\n",
       "      <td>0</td>\n",
       "      <td>1</td>\n",
       "      <td>0</td>\n",
       "      <td>0</td>\n",
       "      <td>0.887671</td>\n",
       "    </tr>\n",
       "    <tr>\n",
       "      <th>4</th>\n",
       "      <td>C5</td>\n",
       "      <td>0</td>\n",
       "      <td>1</td>\n",
       "      <td>2022-02-15T23:29:37.460Z</td>\n",
       "      <td>0</td>\n",
       "      <td>1</td>\n",
       "      <td>0</td>\n",
       "      <td>0</td>\n",
       "      <td>0</td>\n",
       "      <td>0</td>\n",
       "      <td>0.265753</td>\n",
       "    </tr>\n",
       "  </tbody>\n",
       "</table>\n",
       "</div>"
      ],
      "text/plain": [
       "  customer_id  sex  is_married                event_time  age_18-29  \\\n",
       "0          C1    1           1  2022-02-15T23:29:37.454Z          0   \n",
       "1          C2    0           1  2022-02-15T23:29:37.456Z          1   \n",
       "2          C3    0           1  2022-02-15T23:29:37.458Z          0   \n",
       "3          C4    0           1  2022-02-15T23:29:37.459Z          0   \n",
       "4          C5    0           1  2022-02-15T23:29:37.460Z          0   \n",
       "\n",
       "   age_30-39  age_40-49  age_50-59  age_60-69  age_70-plus  n_days_active  \n",
       "0          0          0          1          0            0       0.521918  \n",
       "1          0          0          0          0            0       0.142466  \n",
       "2          0          0          0          1            0       0.141096  \n",
       "3          0          0          1          0            0       0.887671  \n",
       "4          1          0          0          0            0       0.265753  "
      ]
     },
     "execution_count": 41,
     "metadata": {},
     "output_type": "execute_result"
    }
   ],
   "source": [
    "customers_df = pd.read_csv('.././data/transformed/customers.csv')\n",
    "customers_df.head(5)"
   ]
  },
  {
   "cell_type": "code",
   "execution_count": 42,
   "metadata": {},
   "outputs": [
    {
     "data": {
      "text/plain": [
       "customer_id       object\n",
       "sex                int64\n",
       "is_married         int64\n",
       "event_time        object\n",
       "age_18-29          int64\n",
       "age_30-39          int64\n",
       "age_40-49          int64\n",
       "age_50-59          int64\n",
       "age_60-69          int64\n",
       "age_70-plus        int64\n",
       "n_days_active    float64\n",
       "dtype: object"
      ]
     },
     "execution_count": 42,
     "metadata": {},
     "output_type": "execute_result"
    }
   ],
   "source": [
    "customers_df.dtypes"
   ]
  },
  {
   "cell_type": "code",
   "execution_count": 43,
   "metadata": {},
   "outputs": [],
   "source": [
    "customers_df['customer_id'] = customers_df['customer_id'].astype('string')\n",
    "customers_df['event_time'] = customers_df['event_time'].astype('string')"
   ]
  },
  {
   "cell_type": "code",
   "execution_count": 44,
   "metadata": {},
   "outputs": [
    {
     "data": {
      "text/plain": [
       "customer_id       string\n",
       "sex                int64\n",
       "is_married         int64\n",
       "event_time        string\n",
       "age_18-29          int64\n",
       "age_30-39          int64\n",
       "age_40-49          int64\n",
       "age_50-59          int64\n",
       "age_60-69          int64\n",
       "age_70-plus        int64\n",
       "n_days_active    float64\n",
       "dtype: object"
      ]
     },
     "execution_count": 44,
     "metadata": {},
     "output_type": "execute_result"
    }
   ],
   "source": [
    "customers_df.dtypes"
   ]
  },
  {
   "cell_type": "code",
   "execution_count": 45,
   "metadata": {},
   "outputs": [
    {
     "data": {
      "text/html": [
       "<div>\n",
       "<style scoped>\n",
       "    .dataframe tbody tr th:only-of-type {\n",
       "        vertical-align: middle;\n",
       "    }\n",
       "\n",
       "    .dataframe tbody tr th {\n",
       "        vertical-align: top;\n",
       "    }\n",
       "\n",
       "    .dataframe thead th {\n",
       "        text-align: right;\n",
       "    }\n",
       "</style>\n",
       "<table border=\"1\" class=\"dataframe\">\n",
       "  <thead>\n",
       "    <tr style=\"text-align: right;\">\n",
       "      <th></th>\n",
       "      <th>product_id</th>\n",
       "      <th>event_time</th>\n",
       "      <th>category_baby_food_formula</th>\n",
       "      <th>category_baking_ingredients</th>\n",
       "      <th>category_candy_chocolate</th>\n",
       "      <th>category_chips_pretzels</th>\n",
       "      <th>category_cleaning_products</th>\n",
       "      <th>category_coffee</th>\n",
       "      <th>category_cookies_cakes</th>\n",
       "      <th>category_crackers</th>\n",
       "      <th>...</th>\n",
       "      <th>category_hair_care</th>\n",
       "      <th>category_ice_cream_ice</th>\n",
       "      <th>category_juice_nectars</th>\n",
       "      <th>category_packaged_cheese</th>\n",
       "      <th>category_refrigerated</th>\n",
       "      <th>category_soup_broth_bouillon</th>\n",
       "      <th>category_spices_seasonings</th>\n",
       "      <th>category_tea</th>\n",
       "      <th>category_vitamins_supplements</th>\n",
       "      <th>category_yogurt</th>\n",
       "    </tr>\n",
       "  </thead>\n",
       "  <tbody>\n",
       "    <tr>\n",
       "      <th>0</th>\n",
       "      <td>P1</td>\n",
       "      <td>2022-02-15T23:29:52.850Z</td>\n",
       "      <td>0</td>\n",
       "      <td>0</td>\n",
       "      <td>0</td>\n",
       "      <td>0</td>\n",
       "      <td>0</td>\n",
       "      <td>0</td>\n",
       "      <td>1</td>\n",
       "      <td>0</td>\n",
       "      <td>...</td>\n",
       "      <td>0</td>\n",
       "      <td>0</td>\n",
       "      <td>0</td>\n",
       "      <td>0</td>\n",
       "      <td>0</td>\n",
       "      <td>0</td>\n",
       "      <td>0</td>\n",
       "      <td>0</td>\n",
       "      <td>0</td>\n",
       "      <td>0</td>\n",
       "    </tr>\n",
       "    <tr>\n",
       "      <th>1</th>\n",
       "      <td>P2</td>\n",
       "      <td>2022-02-15T23:29:52.850Z</td>\n",
       "      <td>0</td>\n",
       "      <td>0</td>\n",
       "      <td>0</td>\n",
       "      <td>0</td>\n",
       "      <td>0</td>\n",
       "      <td>0</td>\n",
       "      <td>0</td>\n",
       "      <td>0</td>\n",
       "      <td>...</td>\n",
       "      <td>0</td>\n",
       "      <td>0</td>\n",
       "      <td>0</td>\n",
       "      <td>0</td>\n",
       "      <td>0</td>\n",
       "      <td>0</td>\n",
       "      <td>1</td>\n",
       "      <td>0</td>\n",
       "      <td>0</td>\n",
       "      <td>0</td>\n",
       "    </tr>\n",
       "    <tr>\n",
       "      <th>2</th>\n",
       "      <td>P3</td>\n",
       "      <td>2022-02-15T23:29:52.850Z</td>\n",
       "      <td>0</td>\n",
       "      <td>0</td>\n",
       "      <td>0</td>\n",
       "      <td>0</td>\n",
       "      <td>0</td>\n",
       "      <td>0</td>\n",
       "      <td>0</td>\n",
       "      <td>0</td>\n",
       "      <td>...</td>\n",
       "      <td>0</td>\n",
       "      <td>0</td>\n",
       "      <td>0</td>\n",
       "      <td>0</td>\n",
       "      <td>0</td>\n",
       "      <td>0</td>\n",
       "      <td>0</td>\n",
       "      <td>1</td>\n",
       "      <td>0</td>\n",
       "      <td>0</td>\n",
       "    </tr>\n",
       "    <tr>\n",
       "      <th>3</th>\n",
       "      <td>P4</td>\n",
       "      <td>2022-02-15T23:29:52.850Z</td>\n",
       "      <td>0</td>\n",
       "      <td>0</td>\n",
       "      <td>0</td>\n",
       "      <td>0</td>\n",
       "      <td>0</td>\n",
       "      <td>0</td>\n",
       "      <td>0</td>\n",
       "      <td>0</td>\n",
       "      <td>...</td>\n",
       "      <td>0</td>\n",
       "      <td>0</td>\n",
       "      <td>0</td>\n",
       "      <td>0</td>\n",
       "      <td>0</td>\n",
       "      <td>0</td>\n",
       "      <td>0</td>\n",
       "      <td>0</td>\n",
       "      <td>0</td>\n",
       "      <td>0</td>\n",
       "    </tr>\n",
       "    <tr>\n",
       "      <th>4</th>\n",
       "      <td>P5</td>\n",
       "      <td>2022-02-15T23:29:52.850Z</td>\n",
       "      <td>0</td>\n",
       "      <td>0</td>\n",
       "      <td>0</td>\n",
       "      <td>0</td>\n",
       "      <td>0</td>\n",
       "      <td>0</td>\n",
       "      <td>0</td>\n",
       "      <td>0</td>\n",
       "      <td>...</td>\n",
       "      <td>0</td>\n",
       "      <td>0</td>\n",
       "      <td>1</td>\n",
       "      <td>0</td>\n",
       "      <td>0</td>\n",
       "      <td>0</td>\n",
       "      <td>0</td>\n",
       "      <td>0</td>\n",
       "      <td>0</td>\n",
       "      <td>0</td>\n",
       "    </tr>\n",
       "  </tbody>\n",
       "</table>\n",
       "<p>5 rows × 22 columns</p>\n",
       "</div>"
      ],
      "text/plain": [
       "  product_id                event_time  category_baby_food_formula  \\\n",
       "0         P1  2022-02-15T23:29:52.850Z                           0   \n",
       "1         P2  2022-02-15T23:29:52.850Z                           0   \n",
       "2         P3  2022-02-15T23:29:52.850Z                           0   \n",
       "3         P4  2022-02-15T23:29:52.850Z                           0   \n",
       "4         P5  2022-02-15T23:29:52.850Z                           0   \n",
       "\n",
       "   category_baking_ingredients  category_candy_chocolate  \\\n",
       "0                            0                         0   \n",
       "1                            0                         0   \n",
       "2                            0                         0   \n",
       "3                            0                         0   \n",
       "4                            0                         0   \n",
       "\n",
       "   category_chips_pretzels  category_cleaning_products  category_coffee  \\\n",
       "0                        0                           0                0   \n",
       "1                        0                           0                0   \n",
       "2                        0                           0                0   \n",
       "3                        0                           0                0   \n",
       "4                        0                           0                0   \n",
       "\n",
       "   category_cookies_cakes  category_crackers  ...  category_hair_care  \\\n",
       "0                       1                  0  ...                   0   \n",
       "1                       0                  0  ...                   0   \n",
       "2                       0                  0  ...                   0   \n",
       "3                       0                  0  ...                   0   \n",
       "4                       0                  0  ...                   0   \n",
       "\n",
       "   category_ice_cream_ice  category_juice_nectars  category_packaged_cheese  \\\n",
       "0                       0                       0                         0   \n",
       "1                       0                       0                         0   \n",
       "2                       0                       0                         0   \n",
       "3                       0                       0                         0   \n",
       "4                       0                       1                         0   \n",
       "\n",
       "   category_refrigerated  category_soup_broth_bouillon  \\\n",
       "0                      0                             0   \n",
       "1                      0                             0   \n",
       "2                      0                             0   \n",
       "3                      0                             0   \n",
       "4                      0                             0   \n",
       "\n",
       "   category_spices_seasonings  category_tea  category_vitamins_supplements  \\\n",
       "0                           0             0                              0   \n",
       "1                           1             0                              0   \n",
       "2                           0             1                              0   \n",
       "3                           0             0                              0   \n",
       "4                           0             0                              0   \n",
       "\n",
       "   category_yogurt  \n",
       "0                0  \n",
       "1                0  \n",
       "2                0  \n",
       "3                0  \n",
       "4                0  \n",
       "\n",
       "[5 rows x 22 columns]"
      ]
     },
     "execution_count": 45,
     "metadata": {},
     "output_type": "execute_result"
    }
   ],
   "source": [
    "products_df = pd.read_csv('.././data/transformed/products.csv')\n",
    "products_df.head(5)"
   ]
  },
  {
   "cell_type": "code",
   "execution_count": 46,
   "metadata": {},
   "outputs": [],
   "source": [
    "products_df['product_id'] = products_df['product_id'].astype('string')\n",
    "products_df['event_time'] = products_df['event_time'].astype('string')"
   ]
  },
  {
   "cell_type": "code",
   "execution_count": 47,
   "metadata": {},
   "outputs": [
    {
     "data": {
      "text/plain": [
       "product_id                       string\n",
       "event_time                       string\n",
       "category_baby_food_formula        int64\n",
       "category_baking_ingredients       int64\n",
       "category_candy_chocolate          int64\n",
       "category_chips_pretzels           int64\n",
       "category_cleaning_products        int64\n",
       "category_coffee                   int64\n",
       "category_cookies_cakes            int64\n",
       "category_crackers                 int64\n",
       "category_energy_granola_bars      int64\n",
       "category_frozen_meals             int64\n",
       "category_hair_care                int64\n",
       "category_ice_cream_ice            int64\n",
       "category_juice_nectars            int64\n",
       "category_packaged_cheese          int64\n",
       "category_refrigerated             int64\n",
       "category_soup_broth_bouillon      int64\n",
       "category_spices_seasonings        int64\n",
       "category_tea                      int64\n",
       "category_vitamins_supplements     int64\n",
       "category_yogurt                   int64\n",
       "dtype: object"
      ]
     },
     "execution_count": 47,
     "metadata": {},
     "output_type": "execute_result"
    }
   ],
   "source": [
    "products_df.dtypes"
   ]
  },
  {
   "cell_type": "code",
   "execution_count": 48,
   "metadata": {},
   "outputs": [
    {
     "data": {
      "text/html": [
       "<div>\n",
       "<style scoped>\n",
       "    .dataframe tbody tr th:only-of-type {\n",
       "        vertical-align: middle;\n",
       "    }\n",
       "\n",
       "    .dataframe tbody tr th {\n",
       "        vertical-align: top;\n",
       "    }\n",
       "\n",
       "    .dataframe thead th {\n",
       "        text-align: right;\n",
       "    }\n",
       "</style>\n",
       "<table border=\"1\" class=\"dataframe\">\n",
       "  <thead>\n",
       "    <tr style=\"text-align: right;\">\n",
       "      <th></th>\n",
       "      <th>order_id</th>\n",
       "      <th>customer_id</th>\n",
       "      <th>product_id</th>\n",
       "      <th>purchase_amount</th>\n",
       "      <th>is_reordered</th>\n",
       "      <th>event_time</th>\n",
       "      <th>n_days_since_last_purchase</th>\n",
       "    </tr>\n",
       "  </thead>\n",
       "  <tbody>\n",
       "    <tr>\n",
       "      <th>0</th>\n",
       "      <td>O1</td>\n",
       "      <td>C5731</td>\n",
       "      <td>P16</td>\n",
       "      <td>0.913465</td>\n",
       "      <td>1</td>\n",
       "      <td>2022-02-15T23:29:53.387Z</td>\n",
       "      <td>0.122093</td>\n",
       "    </tr>\n",
       "    <tr>\n",
       "      <th>1</th>\n",
       "      <td>O2</td>\n",
       "      <td>C3541</td>\n",
       "      <td>P12802</td>\n",
       "      <td>0.663168</td>\n",
       "      <td>1</td>\n",
       "      <td>2022-02-15T23:29:53.387Z</td>\n",
       "      <td>0.903101</td>\n",
       "    </tr>\n",
       "    <tr>\n",
       "      <th>2</th>\n",
       "      <td>O3</td>\n",
       "      <td>C7402</td>\n",
       "      <td>P8320</td>\n",
       "      <td>0.629604</td>\n",
       "      <td>1</td>\n",
       "      <td>2022-02-15T23:29:53.387Z</td>\n",
       "      <td>0.054264</td>\n",
       "    </tr>\n",
       "    <tr>\n",
       "      <th>3</th>\n",
       "      <td>O4</td>\n",
       "      <td>C7356</td>\n",
       "      <td>P5165</td>\n",
       "      <td>0.618911</td>\n",
       "      <td>0</td>\n",
       "      <td>2022-02-15T23:29:53.387Z</td>\n",
       "      <td>0.343023</td>\n",
       "    </tr>\n",
       "    <tr>\n",
       "      <th>4</th>\n",
       "      <td>O5</td>\n",
       "      <td>C5806</td>\n",
       "      <td>P12940</td>\n",
       "      <td>0.053168</td>\n",
       "      <td>1</td>\n",
       "      <td>2022-02-15T23:29:53.387Z</td>\n",
       "      <td>0.242248</td>\n",
       "    </tr>\n",
       "    <tr>\n",
       "      <th>...</th>\n",
       "      <td>...</td>\n",
       "      <td>...</td>\n",
       "      <td>...</td>\n",
       "      <td>...</td>\n",
       "      <td>...</td>\n",
       "      <td>...</td>\n",
       "      <td>...</td>\n",
       "    </tr>\n",
       "    <tr>\n",
       "      <th>99995</th>\n",
       "      <td>O99996</td>\n",
       "      <td>C7167</td>\n",
       "      <td>P10590</td>\n",
       "      <td>0.896040</td>\n",
       "      <td>0</td>\n",
       "      <td>2022-02-15T23:29:59.292Z</td>\n",
       "      <td>0.686047</td>\n",
       "    </tr>\n",
       "    <tr>\n",
       "      <th>99996</th>\n",
       "      <td>O99997</td>\n",
       "      <td>C3642</td>\n",
       "      <td>P6210</td>\n",
       "      <td>0.129109</td>\n",
       "      <td>1</td>\n",
       "      <td>2022-02-15T23:29:59.292Z</td>\n",
       "      <td>0.868217</td>\n",
       "    </tr>\n",
       "    <tr>\n",
       "      <th>99997</th>\n",
       "      <td>O99998</td>\n",
       "      <td>C6145</td>\n",
       "      <td>P5740</td>\n",
       "      <td>0.825050</td>\n",
       "      <td>1</td>\n",
       "      <td>2022-02-15T23:29:59.292Z</td>\n",
       "      <td>0.046512</td>\n",
       "    </tr>\n",
       "    <tr>\n",
       "      <th>99998</th>\n",
       "      <td>O99999</td>\n",
       "      <td>C7567</td>\n",
       "      <td>P14942</td>\n",
       "      <td>0.602772</td>\n",
       "      <td>1</td>\n",
       "      <td>2022-02-15T23:29:59.292Z</td>\n",
       "      <td>0.835271</td>\n",
       "    </tr>\n",
       "    <tr>\n",
       "      <th>99999</th>\n",
       "      <td>O100000</td>\n",
       "      <td>C3417</td>\n",
       "      <td>P1772</td>\n",
       "      <td>0.987921</td>\n",
       "      <td>1</td>\n",
       "      <td>2022-02-15T23:29:59.292Z</td>\n",
       "      <td>0.098837</td>\n",
       "    </tr>\n",
       "  </tbody>\n",
       "</table>\n",
       "<p>100000 rows × 7 columns</p>\n",
       "</div>"
      ],
      "text/plain": [
       "      order_id customer_id product_id  purchase_amount  is_reordered  \\\n",
       "0           O1       C5731        P16         0.913465             1   \n",
       "1           O2       C3541     P12802         0.663168             1   \n",
       "2           O3       C7402      P8320         0.629604             1   \n",
       "3           O4       C7356      P5165         0.618911             0   \n",
       "4           O5       C5806     P12940         0.053168             1   \n",
       "...        ...         ...        ...              ...           ...   \n",
       "99995   O99996       C7167     P10590         0.896040             0   \n",
       "99996   O99997       C3642      P6210         0.129109             1   \n",
       "99997   O99998       C6145      P5740         0.825050             1   \n",
       "99998   O99999       C7567     P14942         0.602772             1   \n",
       "99999  O100000       C3417      P1772         0.987921             1   \n",
       "\n",
       "                     event_time  n_days_since_last_purchase  \n",
       "0      2022-02-15T23:29:53.387Z                    0.122093  \n",
       "1      2022-02-15T23:29:53.387Z                    0.903101  \n",
       "2      2022-02-15T23:29:53.387Z                    0.054264  \n",
       "3      2022-02-15T23:29:53.387Z                    0.343023  \n",
       "4      2022-02-15T23:29:53.387Z                    0.242248  \n",
       "...                         ...                         ...  \n",
       "99995  2022-02-15T23:29:59.292Z                    0.686047  \n",
       "99996  2022-02-15T23:29:59.292Z                    0.868217  \n",
       "99997  2022-02-15T23:29:59.292Z                    0.046512  \n",
       "99998  2022-02-15T23:29:59.292Z                    0.835271  \n",
       "99999  2022-02-15T23:29:59.292Z                    0.098837  \n",
       "\n",
       "[100000 rows x 7 columns]"
      ]
     },
     "execution_count": 48,
     "metadata": {},
     "output_type": "execute_result"
    }
   ],
   "source": [
    "orders_df = pd.read_csv('.././data/transformed/orders.csv')\n",
    "orders_df"
   ]
  },
  {
   "cell_type": "code",
   "execution_count": 49,
   "metadata": {},
   "outputs": [],
   "source": [
    "orders_df['order_id'] = orders_df['order_id'].astype('string')\n",
    "orders_df['customer_id'] = orders_df['customer_id'].astype('string')\n",
    "orders_df['product_id'] = orders_df['product_id'].astype('string')\n",
    "orders_df['event_time'] = orders_df['event_time'].astype('string')"
   ]
  },
  {
   "cell_type": "code",
   "execution_count": 56,
   "metadata": {},
   "outputs": [
    {
     "data": {
      "text/plain": [
       "order_id                       string\n",
       "customer_id                    string\n",
       "product_id                     string\n",
       "purchase_amount               float64\n",
       "is_reordered                    int64\n",
       "event_time                     string\n",
       "n_days_since_last_purchase    float64\n",
       "dtype: object"
      ]
     },
     "execution_count": 56,
     "metadata": {},
     "output_type": "execute_result"
    }
   ],
   "source": [
    "orders_df.dtypes"
   ]
  },
  {
   "cell_type": "code",
   "execution_count": 51,
   "metadata": {},
   "outputs": [
    {
     "name": "stdout",
     "output_type": "stream",
     "text": [
      "Stored 'customers_count' (int)\n",
      "Stored 'products_count' (int)\n",
      "Stored 'orders_count' (int)\n"
     ]
    }
   ],
   "source": [
    "customers_count = customers_df.shape[0]\n",
    "%store customers_count\n",
    "products_count = products_df.shape[0]\n",
    "%store products_count\n",
    "orders_count = orders_df.shape[0]\n",
    "%store orders_count"
   ]
  },
  {
   "cell_type": "markdown",
   "metadata": {},
   "source": [
    "# Create feature definitions and groups"
   ]
  },
  {
   "cell_type": "code",
   "execution_count": 52,
   "metadata": {},
   "outputs": [],
   "source": [
    "current_timestamp = strftime('%m-%d-%H-%M', gmtime())"
   ]
  },
  {
   "cell_type": "code",
   "execution_count": 53,
   "metadata": {},
   "outputs": [],
   "source": [
    "# prefix to track all the feature groups created as part of feature store champions workshop (fscw)\n",
    "fs_prefix = 'fscw-' "
   ]
  },
  {
   "cell_type": "code",
   "execution_count": 54,
   "metadata": {},
   "outputs": [
    {
     "name": "stdout",
     "output_type": "stream",
     "text": [
      "Stored 'customers_feature_group_name' (str)\n",
      "Stored 'products_feature_group_name' (str)\n",
      "Stored 'orders_feature_group_name' (str)\n"
     ]
    }
   ],
   "source": [
    "customers_feature_group_name = f'{fs_prefix}customers-{current_timestamp}'\n",
    "%store customers_feature_group_name\n",
    "products_feature_group_name = f'{fs_prefix}products-{current_timestamp}'\n",
    "%store products_feature_group_name\n",
    "orders_feature_group_name = f'{fs_prefix}orders-{current_timestamp}'\n",
    "%store orders_feature_group_name"
   ]
  },
  {
   "cell_type": "code",
   "execution_count": 55,
   "metadata": {},
   "outputs": [
    {
     "name": "stderr",
     "output_type": "stream",
     "text": [
      "Customers feature group name = fscw-customers-02-15-23-31\n",
      "Customers feature group name = fscw-customers-02-15-23-31\n",
      "Products feature group name = fscw-products-02-15-23-31\n",
      "Products feature group name = fscw-products-02-15-23-31\n",
      "Orders feature group name = fscw-orders-02-15-23-31\n",
      "Orders feature group name = fscw-orders-02-15-23-31\n"
     ]
    }
   ],
   "source": [
    "logger.info(f'Customers feature group name = {customers_feature_group_name}')\n",
    "logger.info(f'Products feature group name = {products_feature_group_name}')\n",
    "logger.info(f'Orders feature group name = {orders_feature_group_name}')"
   ]
  },
  {
   "cell_type": "code",
   "execution_count": 57,
   "metadata": {},
   "outputs": [],
   "source": [
    "customers_feature_group = FeatureGroup(name=customers_feature_group_name, sagemaker_session=sagemaker_session)\n",
    "products_feature_group = FeatureGroup(name=products_feature_group_name, sagemaker_session=sagemaker_session)\n",
    "orders_feature_group = FeatureGroup(name=orders_feature_group_name, sagemaker_session=sagemaker_session)"
   ]
  },
  {
   "cell_type": "code",
   "execution_count": 60,
   "metadata": {},
   "outputs": [
    {
     "data": {
      "text/plain": [
       "[FeatureDefinition(feature_name='customer_id', feature_type=<FeatureTypeEnum.STRING: 'String'>),\n",
       " FeatureDefinition(feature_name='sex', feature_type=<FeatureTypeEnum.INTEGRAL: 'Integral'>),\n",
       " FeatureDefinition(feature_name='is_married', feature_type=<FeatureTypeEnum.INTEGRAL: 'Integral'>),\n",
       " FeatureDefinition(feature_name='event_time', feature_type=<FeatureTypeEnum.STRING: 'String'>),\n",
       " FeatureDefinition(feature_name='age_18-29', feature_type=<FeatureTypeEnum.INTEGRAL: 'Integral'>),\n",
       " FeatureDefinition(feature_name='age_30-39', feature_type=<FeatureTypeEnum.INTEGRAL: 'Integral'>),\n",
       " FeatureDefinition(feature_name='age_40-49', feature_type=<FeatureTypeEnum.INTEGRAL: 'Integral'>),\n",
       " FeatureDefinition(feature_name='age_50-59', feature_type=<FeatureTypeEnum.INTEGRAL: 'Integral'>),\n",
       " FeatureDefinition(feature_name='age_60-69', feature_type=<FeatureTypeEnum.INTEGRAL: 'Integral'>),\n",
       " FeatureDefinition(feature_name='age_70-plus', feature_type=<FeatureTypeEnum.INTEGRAL: 'Integral'>),\n",
       " FeatureDefinition(feature_name='n_days_active', feature_type=<FeatureTypeEnum.FRACTIONAL: 'Fractional'>)]"
      ]
     },
     "execution_count": 60,
     "metadata": {},
     "output_type": "execute_result"
    }
   ],
   "source": [
    "customers_feature_group.load_feature_definitions(data_frame=customers_df)"
   ]
  },
  {
   "cell_type": "code",
   "execution_count": 61,
   "metadata": {},
   "outputs": [
    {
     "data": {
      "text/plain": [
       "[FeatureDefinition(feature_name='product_id', feature_type=<FeatureTypeEnum.STRING: 'String'>),\n",
       " FeatureDefinition(feature_name='event_time', feature_type=<FeatureTypeEnum.STRING: 'String'>),\n",
       " FeatureDefinition(feature_name='category_baby_food_formula', feature_type=<FeatureTypeEnum.INTEGRAL: 'Integral'>),\n",
       " FeatureDefinition(feature_name='category_baking_ingredients', feature_type=<FeatureTypeEnum.INTEGRAL: 'Integral'>),\n",
       " FeatureDefinition(feature_name='category_candy_chocolate', feature_type=<FeatureTypeEnum.INTEGRAL: 'Integral'>),\n",
       " FeatureDefinition(feature_name='category_chips_pretzels', feature_type=<FeatureTypeEnum.INTEGRAL: 'Integral'>),\n",
       " FeatureDefinition(feature_name='category_cleaning_products', feature_type=<FeatureTypeEnum.INTEGRAL: 'Integral'>),\n",
       " FeatureDefinition(feature_name='category_coffee', feature_type=<FeatureTypeEnum.INTEGRAL: 'Integral'>),\n",
       " FeatureDefinition(feature_name='category_cookies_cakes', feature_type=<FeatureTypeEnum.INTEGRAL: 'Integral'>),\n",
       " FeatureDefinition(feature_name='category_crackers', feature_type=<FeatureTypeEnum.INTEGRAL: 'Integral'>),\n",
       " FeatureDefinition(feature_name='category_energy_granola_bars', feature_type=<FeatureTypeEnum.INTEGRAL: 'Integral'>),\n",
       " FeatureDefinition(feature_name='category_frozen_meals', feature_type=<FeatureTypeEnum.INTEGRAL: 'Integral'>),\n",
       " FeatureDefinition(feature_name='category_hair_care', feature_type=<FeatureTypeEnum.INTEGRAL: 'Integral'>),\n",
       " FeatureDefinition(feature_name='category_ice_cream_ice', feature_type=<FeatureTypeEnum.INTEGRAL: 'Integral'>),\n",
       " FeatureDefinition(feature_name='category_juice_nectars', feature_type=<FeatureTypeEnum.INTEGRAL: 'Integral'>),\n",
       " FeatureDefinition(feature_name='category_packaged_cheese', feature_type=<FeatureTypeEnum.INTEGRAL: 'Integral'>),\n",
       " FeatureDefinition(feature_name='category_refrigerated', feature_type=<FeatureTypeEnum.INTEGRAL: 'Integral'>),\n",
       " FeatureDefinition(feature_name='category_soup_broth_bouillon', feature_type=<FeatureTypeEnum.INTEGRAL: 'Integral'>),\n",
       " FeatureDefinition(feature_name='category_spices_seasonings', feature_type=<FeatureTypeEnum.INTEGRAL: 'Integral'>),\n",
       " FeatureDefinition(feature_name='category_tea', feature_type=<FeatureTypeEnum.INTEGRAL: 'Integral'>),\n",
       " FeatureDefinition(feature_name='category_vitamins_supplements', feature_type=<FeatureTypeEnum.INTEGRAL: 'Integral'>),\n",
       " FeatureDefinition(feature_name='category_yogurt', feature_type=<FeatureTypeEnum.INTEGRAL: 'Integral'>)]"
      ]
     },
     "execution_count": 61,
     "metadata": {},
     "output_type": "execute_result"
    }
   ],
   "source": [
    "products_feature_group.load_feature_definitions(data_frame=products_df)"
   ]
  },
  {
   "cell_type": "code",
   "execution_count": 62,
   "metadata": {},
   "outputs": [
    {
     "data": {
      "text/plain": [
       "[FeatureDefinition(feature_name='order_id', feature_type=<FeatureTypeEnum.STRING: 'String'>),\n",
       " FeatureDefinition(feature_name='customer_id', feature_type=<FeatureTypeEnum.STRING: 'String'>),\n",
       " FeatureDefinition(feature_name='product_id', feature_type=<FeatureTypeEnum.STRING: 'String'>),\n",
       " FeatureDefinition(feature_name='purchase_amount', feature_type=<FeatureTypeEnum.FRACTIONAL: 'Fractional'>),\n",
       " FeatureDefinition(feature_name='is_reordered', feature_type=<FeatureTypeEnum.INTEGRAL: 'Integral'>),\n",
       " FeatureDefinition(feature_name='event_time', feature_type=<FeatureTypeEnum.STRING: 'String'>),\n",
       " FeatureDefinition(feature_name='n_days_since_last_purchase', feature_type=<FeatureTypeEnum.FRACTIONAL: 'Fractional'>)]"
      ]
     },
     "execution_count": 62,
     "metadata": {},
     "output_type": "execute_result"
    }
   ],
   "source": [
    "orders_feature_group.load_feature_definitions(data_frame=orders_df)"
   ]
  },
  {
   "cell_type": "markdown",
   "metadata": {},
   "source": [
    "Let's create the feature groups now"
   ]
  },
  {
   "cell_type": "code",
   "execution_count": 63,
   "metadata": {},
   "outputs": [],
   "source": [
    "def wait_for_feature_group_creation_complete(feature_group):\n",
    "    status = feature_group.describe().get('FeatureGroupStatus')\n",
    "    print(f'Initial status: {status}')\n",
    "    while status == 'Creating':\n",
    "        logger.info(f'Waiting for feature group: {feature_group.name} to be created ...')\n",
    "        time.sleep(5)\n",
    "        status = feature_group.describe().get('FeatureGroupStatus')\n",
    "    if status != 'Created':\n",
    "        raise SystemExit(f'Failed to create feature group {feature_group.name}: {status}')\n",
    "    logger.info(f'FeatureGroup {feature_group.name} was successfully created.')"
   ]
  },
  {
   "cell_type": "code",
   "execution_count": 64,
   "metadata": {},
   "outputs": [
    {
     "data": {
      "text/plain": [
       "{'FeatureGroupArn': 'arn:aws:sagemaker:us-west-2:119387606724:feature-group/fscw-customers-02-15-23-31',\n",
       " 'ResponseMetadata': {'RequestId': 'c2f3b638-e2e3-4e13-b2b0-6a011e34860d',\n",
       "  'HTTPStatusCode': 200,\n",
       "  'HTTPHeaders': {'x-amzn-requestid': 'c2f3b638-e2e3-4e13-b2b0-6a011e34860d',\n",
       "   'content-type': 'application/x-amz-json-1.1',\n",
       "   'content-length': '103',\n",
       "   'date': 'Tue, 15 Feb 2022 23:36:54 GMT'},\n",
       "  'RetryAttempts': 0}}"
      ]
     },
     "execution_count": 64,
     "metadata": {},
     "output_type": "execute_result"
    }
   ],
   "source": [
    "customers_feature_group.create(s3_uri=f's3://{default_bucket}/{prefix}', \n",
    "                               record_identifier_name='customer_id', \n",
    "                               event_time_feature_name='event_time', \n",
    "                               role_arn=role, \n",
    "                               enable_online_store=True)"
   ]
  },
  {
   "cell_type": "code",
   "execution_count": 65,
   "metadata": {},
   "outputs": [
    {
     "name": "stderr",
     "output_type": "stream",
     "text": [
      "Waiting for feature group: fscw-customers-02-15-23-31 to be created ...\n",
      "Waiting for feature group: fscw-customers-02-15-23-31 to be created ...\n"
     ]
    },
    {
     "name": "stdout",
     "output_type": "stream",
     "text": [
      "Initial status: Creating\n"
     ]
    },
    {
     "name": "stderr",
     "output_type": "stream",
     "text": [
      "Waiting for feature group: fscw-customers-02-15-23-31 to be created ...\n",
      "Waiting for feature group: fscw-customers-02-15-23-31 to be created ...\n",
      "FeatureGroup fscw-customers-02-15-23-31 was successfully created.\n",
      "FeatureGroup fscw-customers-02-15-23-31 was successfully created.\n"
     ]
    }
   ],
   "source": [
    "wait_for_feature_group_creation_complete(customers_feature_group)"
   ]
  },
  {
   "cell_type": "code",
   "execution_count": 66,
   "metadata": {},
   "outputs": [
    {
     "data": {
      "text/plain": [
       "{'FeatureGroupArn': 'arn:aws:sagemaker:us-west-2:119387606724:feature-group/fscw-products-02-15-23-31',\n",
       " 'ResponseMetadata': {'RequestId': 'aaf76134-ec32-49c9-b025-dc273625399f',\n",
       "  'HTTPStatusCode': 200,\n",
       "  'HTTPHeaders': {'x-amzn-requestid': 'aaf76134-ec32-49c9-b025-dc273625399f',\n",
       "   'content-type': 'application/x-amz-json-1.1',\n",
       "   'content-length': '102',\n",
       "   'date': 'Tue, 15 Feb 2022 23:37:13 GMT'},\n",
       "  'RetryAttempts': 0}}"
      ]
     },
     "execution_count": 66,
     "metadata": {},
     "output_type": "execute_result"
    }
   ],
   "source": [
    "products_feature_group.create(s3_uri=f's3://{default_bucket}/{prefix}', \n",
    "                               record_identifier_name='product_id', \n",
    "                               event_time_feature_name='event_time', \n",
    "                               role_arn=role, \n",
    "                               enable_online_store=True)"
   ]
  },
  {
   "cell_type": "code",
   "execution_count": 67,
   "metadata": {},
   "outputs": [
    {
     "name": "stderr",
     "output_type": "stream",
     "text": [
      "Waiting for feature group: fscw-products-02-15-23-31 to be created ...\n",
      "Waiting for feature group: fscw-products-02-15-23-31 to be created ...\n"
     ]
    },
    {
     "name": "stdout",
     "output_type": "stream",
     "text": [
      "Initial status: Creating\n"
     ]
    },
    {
     "name": "stderr",
     "output_type": "stream",
     "text": [
      "Waiting for feature group: fscw-products-02-15-23-31 to be created ...\n",
      "Waiting for feature group: fscw-products-02-15-23-31 to be created ...\n",
      "Waiting for feature group: fscw-products-02-15-23-31 to be created ...\n",
      "Waiting for feature group: fscw-products-02-15-23-31 to be created ...\n",
      "Waiting for feature group: fscw-products-02-15-23-31 to be created ...\n",
      "Waiting for feature group: fscw-products-02-15-23-31 to be created ...\n",
      "FeatureGroup fscw-products-02-15-23-31 was successfully created.\n",
      "FeatureGroup fscw-products-02-15-23-31 was successfully created.\n"
     ]
    }
   ],
   "source": [
    "wait_for_feature_group_creation_complete(products_feature_group)"
   ]
  },
  {
   "cell_type": "code",
   "execution_count": 68,
   "metadata": {},
   "outputs": [
    {
     "data": {
      "text/plain": [
       "{'FeatureGroupArn': 'arn:aws:sagemaker:us-west-2:119387606724:feature-group/fscw-orders-02-15-23-31',\n",
       " 'ResponseMetadata': {'RequestId': '45de8587-f6df-41b4-83ca-3e73342819ff',\n",
       "  'HTTPStatusCode': 200,\n",
       "  'HTTPHeaders': {'x-amzn-requestid': '45de8587-f6df-41b4-83ca-3e73342819ff',\n",
       "   'content-type': 'application/x-amz-json-1.1',\n",
       "   'content-length': '100',\n",
       "   'date': 'Tue, 15 Feb 2022 23:37:33 GMT'},\n",
       "  'RetryAttempts': 0}}"
      ]
     },
     "execution_count": 68,
     "metadata": {},
     "output_type": "execute_result"
    }
   ],
   "source": [
    "orders_feature_group.create(s3_uri=f's3://{default_bucket}/{prefix}', \n",
    "                            record_identifier_name='order_id', \n",
    "                            event_time_feature_name='event_time', \n",
    "                            role_arn=role, \n",
    "                            enable_online_store=True)"
   ]
  },
  {
   "cell_type": "code",
   "execution_count": 69,
   "metadata": {},
   "outputs": [
    {
     "name": "stderr",
     "output_type": "stream",
     "text": [
      "Waiting for feature group: fscw-orders-02-15-23-31 to be created ...\n",
      "Waiting for feature group: fscw-orders-02-15-23-31 to be created ...\n"
     ]
    },
    {
     "name": "stdout",
     "output_type": "stream",
     "text": [
      "Initial status: Creating\n"
     ]
    },
    {
     "name": "stderr",
     "output_type": "stream",
     "text": [
      "Waiting for feature group: fscw-orders-02-15-23-31 to be created ...\n",
      "Waiting for feature group: fscw-orders-02-15-23-31 to be created ...\n",
      "Waiting for feature group: fscw-orders-02-15-23-31 to be created ...\n",
      "Waiting for feature group: fscw-orders-02-15-23-31 to be created ...\n",
      "FeatureGroup fscw-orders-02-15-23-31 was successfully created.\n",
      "FeatureGroup fscw-orders-02-15-23-31 was successfully created.\n"
     ]
    }
   ],
   "source": [
    "wait_for_feature_group_creation_complete(orders_feature_group)"
   ]
  },
  {
   "cell_type": "markdown",
   "metadata": {},
   "source": [
    "# Ingest data into feature groups "
   ]
  },
  {
   "cell_type": "code",
   "execution_count": 70,
   "metadata": {},
   "outputs": [
    {
     "name": "stderr",
     "output_type": "stream",
     "text": [
      "Ingesting data into feature group: fscw-customers-02-15-23-31 ...\n",
      "Ingesting data into feature group: fscw-customers-02-15-23-31 ...\n",
      "10000 customer records ingested into feature group: fscw-customers-02-15-23-31\n",
      "10000 customer records ingested into feature group: fscw-customers-02-15-23-31\n"
     ]
    },
    {
     "name": "stdout",
     "output_type": "stream",
     "text": [
      "CPU times: user 253 ms, sys: 151 ms, total: 404 ms\n",
      "Wall time: 15.7 s\n"
     ]
    }
   ],
   "source": [
    "%%time\n",
    "\n",
    "logger.info(f'Ingesting data into feature group: {customers_feature_group.name} ...')\n",
    "customers_feature_group.ingest(data_frame=customers_df, max_processes=16, wait=True)\n",
    "logger.info(f'{len(customers_df)} customer records ingested into feature group: {customers_feature_group.name}')"
   ]
  },
  {
   "cell_type": "code",
   "execution_count": 71,
   "metadata": {},
   "outputs": [
    {
     "name": "stderr",
     "output_type": "stream",
     "text": [
      "Ingesting data into feature group: fscw-products-02-15-23-31 ...\n",
      "Ingesting data into feature group: fscw-products-02-15-23-31 ...\n",
      "17001 product records ingested into feature group: fscw-products-02-15-23-31\n",
      "17001 product records ingested into feature group: fscw-products-02-15-23-31\n"
     ]
    },
    {
     "name": "stdout",
     "output_type": "stream",
     "text": [
      "CPU times: user 277 ms, sys: 152 ms, total: 429 ms\n",
      "Wall time: 29.6 s\n"
     ]
    }
   ],
   "source": [
    "%%time\n",
    "\n",
    "logger.info(f'Ingesting data into feature group: {products_feature_group.name} ...')\n",
    "products_feature_group.ingest(data_frame=products_df, max_processes=16, wait=True)\n",
    "logger.info(f'{len(products_df)} product records ingested into feature group: {products_feature_group.name}')  "
   ]
  },
  {
   "cell_type": "code",
   "execution_count": 72,
   "metadata": {},
   "outputs": [
    {
     "name": "stderr",
     "output_type": "stream",
     "text": [
      "Ingesting data into feature group: fscw-orders-02-15-23-31 ...\n",
      "Ingesting data into feature group: fscw-orders-02-15-23-31 ...\n",
      "100000 order records ingested into feature group: fscw-orders-02-15-23-31\n",
      "100000 order records ingested into feature group: fscw-orders-02-15-23-31\n"
     ]
    },
    {
     "name": "stdout",
     "output_type": "stream",
     "text": [
      "CPU times: user 1.91 s, sys: 227 ms, total: 2.14 s\n",
      "Wall time: 2min 20s\n"
     ]
    }
   ],
   "source": [
    "%%time\n",
    "\n",
    "logger.info(f'Ingesting data into feature group: {orders_feature_group.name} ...')\n",
    "orders_feature_group.ingest(data_frame=orders_df, max_processes=16, wait=True)\n",
    "logger.info(f'{len(orders_df)} order records ingested into feature group: {orders_feature_group.name}')"
   ]
  },
  {
   "cell_type": "markdown",
   "metadata": {},
   "source": [
    "# Get feature record from the Online feature store "
   ]
  },
  {
   "cell_type": "code",
   "execution_count": 73,
   "metadata": {},
   "outputs": [],
   "source": [
    "featurestore_runtime_client = sagemaker_session.boto_session.client('sagemaker-featurestore-runtime', region_name=region)"
   ]
  },
  {
   "cell_type": "markdown",
   "metadata": {},
   "source": [
    "Retrieve a record from customers feature group"
   ]
  },
  {
   "cell_type": "code",
   "execution_count": 74,
   "metadata": {},
   "outputs": [
    {
     "name": "stderr",
     "output_type": "stream",
     "text": [
      "customer_id=C1024\n",
      "customer_id=C1024\n"
     ]
    }
   ],
   "source": [
    "customer_id =  f'C{randint(1, 10000)}'\n",
    "logger.info(f'customer_id={customer_id}') "
   ]
  },
  {
   "cell_type": "code",
   "execution_count": 75,
   "metadata": {},
   "outputs": [
    {
     "data": {
      "text/plain": [
       "{'ResponseMetadata': {'RequestId': 'bbb6c417-40c9-4cbd-86f3-bd1c12b54fe2',\n",
       "  'HTTPStatusCode': 200,\n",
       "  'HTTPHeaders': {'x-amzn-requestid': 'bbb6c417-40c9-4cbd-86f3-bd1c12b54fe2',\n",
       "   'content-type': 'application/json',\n",
       "   'content-length': '588',\n",
       "   'date': 'Tue, 15 Feb 2022 23:45:38 GMT'},\n",
       "  'RetryAttempts': 0},\n",
       " 'Record': [{'FeatureName': 'customer_id', 'ValueAsString': 'C1024'},\n",
       "  {'FeatureName': 'sex', 'ValueAsString': '1'},\n",
       "  {'FeatureName': 'is_married', 'ValueAsString': '1'},\n",
       "  {'FeatureName': 'event_time', 'ValueAsString': '2022-02-15T23:29:39.143Z'},\n",
       "  {'FeatureName': 'age_18-29', 'ValueAsString': '0'},\n",
       "  {'FeatureName': 'age_30-39', 'ValueAsString': '0'},\n",
       "  {'FeatureName': 'age_40-49', 'ValueAsString': '1'},\n",
       "  {'FeatureName': 'age_50-59', 'ValueAsString': '0'},\n",
       "  {'FeatureName': 'age_60-69', 'ValueAsString': '0'},\n",
       "  {'FeatureName': 'age_70-plus', 'ValueAsString': '0'},\n",
       "  {'FeatureName': 'n_days_active', 'ValueAsString': '0.9849315068493152'}]}"
      ]
     },
     "execution_count": 75,
     "metadata": {},
     "output_type": "execute_result"
    }
   ],
   "source": [
    "feature_record = featurestore_runtime_client.get_record(FeatureGroupName=customers_feature_group_name, \n",
    "                                                        RecordIdentifierValueAsString=customer_id)\n",
    "feature_record"
   ]
  },
  {
   "cell_type": "markdown",
   "metadata": {},
   "source": [
    "# List feature groups "
   ]
  },
  {
   "cell_type": "code",
   "execution_count": 76,
   "metadata": {},
   "outputs": [],
   "source": [
    "sagemaker_client = sagemaker_session.boto_session.client('sagemaker', region_name=region)"
   ]
  },
  {
   "cell_type": "code",
   "execution_count": 77,
   "metadata": {},
   "outputs": [
    {
     "name": "stdout",
     "output_type": "stream",
     "text": [
      "Found feature group: online-only-feature-group\n",
      "Found feature group: new-feature-group\n",
      "Found feature group: fscw-products-02-15-23-31\n",
      "Found feature group: fscw-orders-02-15-23-31\n",
      "Found feature group: fscw-customers-02-15-23-31\n",
      "Found feature group: feature-group-a\n",
      "Found feature group: customer-feature-group\n"
     ]
    }
   ],
   "source": [
    "response = sagemaker_client.list_feature_groups()\n",
    "for fg in response['FeatureGroupSummaries']:\n",
    "    fg_name = fg['FeatureGroupName']\n",
    "    print(f'Found feature group: {fg_name}')"
   ]
  },
  {
   "cell_type": "code",
   "execution_count": null,
   "metadata": {},
   "outputs": [],
   "source": []
  }
 ],
 "metadata": {
  "instance_type": "ml.t3.medium",
  "kernelspec": {
   "display_name": "Python 3 (Data Science)",
   "language": "python",
   "name": "python3__SAGEMAKER_INTERNAL__arn:aws:sagemaker:us-west-2:236514542706:image/datascience-1.0"
  },
  "language_info": {
   "codemirror_mode": {
    "name": "ipython",
    "version": 3
   },
   "file_extension": ".py",
   "mimetype": "text/x-python",
   "name": "python",
   "nbconvert_exporter": "python",
   "pygments_lexer": "ipython3",
   "version": "3.7.10"
  }
 },
 "nbformat": 4,
 "nbformat_minor": 4
}
